{
 "cells": [
  {
   "cell_type": "markdown",
   "metadata": {
    "id": "ck8qOWdm0Y8x"
   },
   "source": [
    "## CS 644 - Final Project \n",
    "\n",
    "##### Group Members :- Smeet Kathiria,Krishna Patel, Suchi Khare "
   ]
  },
  {
   "cell_type": "markdown",
   "metadata": {
    "id": "scZsP59H0Yzy"
   },
   "source": [
    "## Project Part 3 -> Fetching twitter data and sending it to the spark streaming context "
   ]
  },
  {
   "cell_type": "code",
   "execution_count": null,
   "metadata": {
    "id": "nRH8Z60O0XH-"
   },
   "outputs": [],
   "source": [
    "\n",
    "import tweepy\n",
    "from tweepy import API\n",
    "from tweepy import Stream\n",
    "from tweepy.streaming import StreamListener\n",
    "from tweepy import OAuthHandler\n",
    "from tweepy import Cursor\n",
    "import numpy as np\n",
    "import pandas as pd \n",
    "import socket\n",
    "import json\n",
    "\n",
    "# here we removed the consumer key and secret since it is private but you can get it by creating twitter developer account. \n",
    "consumer_key = 'put your consumer key'\n",
    "consumer_secret = 'put your consumer secret'\n",
    "access_token = 'put your access_token'\n",
    "access_secret = 'put your access secret'"
   ]
  },
  {
   "cell_type": "markdown",
   "metadata": {
    "id": "x9eC-Ima1zWR"
   },
   "source": [
    "##### Below class fetches only the text part from the json data that we get from api \n"
   ]
  },
  {
   "cell_type": "code",
   "execution_count": null,
   "metadata": {
    "id": "eT28IcZn0XIE"
   },
   "outputs": [],
   "source": [
    "class TweetsListener(StreamListener):\n",
    "    def __init__(self,csocket):\n",
    "        self.client_socket = csocket \n",
    "    \n",
    "    def on_data(self,data):\n",
    "        try:\n",
    "            tweet = json.loads( data )\n",
    "            print(\"new message\")\n",
    "            if \"extended_tweet\" in tweet:\n",
    "                self.client_socket\\\n",
    "                .send(str(tweet['extended_tweet']['full_text']+\"t_end\")\\\n",
    "                .encode('utf-8'))         \n",
    "                print(tweet['extended_tweet']['full_text'])\n",
    "            else:\n",
    "                self.client_socket\\\n",
    "                .send(str(tweet['text']+\"t_end\")\\\n",
    "                .encode('utf-8'))\n",
    "                print(tweet['text'])\n",
    "            return True\n",
    "        except BaseException as e:\n",
    "            print(\"Error on_data: %s\" % str(e))\n",
    "        return True\n",
    "    \n",
    "    def on_error(self,status):\n",
    "        print(status)\n",
    "        return True \n",
    "    \n",
    "    \n",
    "    \n",
    "\n",
    "    "
   ]
  },
  {
   "cell_type": "markdown",
   "metadata": {
    "id": "0ikYRenv2AIz"
   },
   "source": [
    "###### Here we mention the keyword that we want to filter in the tweets and make connection to twitter using consumer credentials. \n"
   ]
  },
  {
   "cell_type": "code",
   "execution_count": null,
   "metadata": {
    "id": "bz49uVqH0XIF"
   },
   "outputs": [],
   "source": [
    "def pushData_to(csocket):\n",
    "    auth = OAuthHandler(consumer_key,consumer_secret)\n",
    "    auth.set_access_token(access_token,access_secret)\n",
    "    twitter_stream = Stream(auth, TweetsListener(csocket))\n",
    "    twitter_stream.filter(track=['corona'],languages= [\"en\"])\n",
    "\n"
   ]
  },
  {
   "cell_type": "code",
   "execution_count": null,
   "metadata": {
    "id": "PcmJq5s90XIG",
    "outputId": "93e01011-0086-4515-b64f-63cc81e6ceec"
   },
   "outputs": [
    {
     "name": "stdout",
     "output_type": "stream",
     "text": [
      "Listening on port: 9878\n"
     ]
    }
   ],
   "source": [
    "mySocket = socket.socket()\n",
    "host = \"127.0.0.1\"\n",
    "port = 9878\n",
    "mySocket.bind((host,port))\n",
    "print(\"Listening on port: %s\" % str(port))"
   ]
  },
  {
   "cell_type": "code",
   "execution_count": null,
   "metadata": {
    "id": "RlNX9KAi0XIH",
    "outputId": "224edf22-21d6-4338-ac18-17b8e165465f"
   },
   "outputs": [
    {
     "name": "stdout",
     "output_type": "stream",
     "text": [
      "Received request from:('127.0.0.1', 48734)\n"
     ]
    }
   ],
   "source": [
    "mySocket.listen(5)\n",
    "client, addr = mySocket.accept()\n",
    "print(\"Received request from:\" + str(addr))"
   ]
  },
  {
   "cell_type": "code",
   "execution_count": null,
   "metadata": {
    "id": "E0VlGFTy0XIH"
   },
   "outputs": [],
   "source": [
    "pushData_to(client)"
   ]
  },
  {
   "cell_type": "markdown",
   "metadata": {
    "id": "8gOXJPpE3Toc"
   },
   "source": [
    "###### sample tweets that we get after running above cell "
   ]
  },
  {
   "cell_type": "markdown",
   "metadata": {
    "id": "iZ4tKXbC0XIH"
   },
   "source": [
    "new message\n",
    "<br>\n",
    "RT @prabhatisb: Anna Hazare’s biggest blunder,Delhi’s deadliest curse. The guy is more deadlier than Corona or Saars . #RemoveKejriVirus .…\n",
    "<br>\n",
    "\n",
    "new message\n",
    "<br>\n",
    "A tribute to all who helped in this pandemic by risking their lives.\n",
    "❣️\n",
    "Even Apart We Are Together In This.\n",
    "🤝\n",
    "Thank &amp; Motivate Them By Sharing This Song-MEHENAT\n",
    "<br>\n",
    "new message\n",
    "<br>\n",
    "\n",
    "RT @pjxJvJGcditHqdC: #RemoveKejriVirus\n",
    "Deadly than corona! https://t.co/3FtCjZckjP\n",
    "<br>\n",
    "\n",
    "new message\n",
    "<br>\n",
    "\n",
    "RT @prankya: Let's cooperate with the Corona frontliners and help them to serve their duty in an efficient manner.\n",
    "\n",
    "Together we are stronge…\n",
    "<br>\n",
    "\n",
    "new message\n",
    "<br>\n",
    "\n",
    "RT @girirajsinghbjp: It is the easiest thing to comment and the most difficult to face.\n",
    "When the whole world is going through its most diff…\n",
    "<br>\n",
    "\n",
    "new message\n",
    "<br>\n",
    "\n",
    "RT @girirajsinghbjp: It is the easiest thing to comment and the most difficult to face.\n",
    "When the whole world is going through its most diff…\n",
    "<br>\n",
    "\n",
    "new message\n",
    "<br>\n",
    "\n",
    "RT @DrMungekar: All people in the country would be happy to know that the health condition of former PM Dr. Manmohan Singh ji, who is being…\n",
    "<br>\n",
    "\n",
    "new message\n",
    "<br>\n",
    "\n",
    "RT @girirajsinghbjp: It is the easiest thing to comment and the most difficult to face.\n",
    "When the whole world is going through its most diff…\n",
    "<br>\n",
    "\n",
    "new message\n",
    "<br>\n",
    "\n",
    "RT @bokuto_here: @PMOIndia @narendramodi\n",
    " pls stop this jihad\n",
    "at least in corona time these things are happening\n",
    " few days earlier two sadh…\n",
    " <br>\n",
    "\n",
    "new message\n",
    "<br>\n",
    "\n",
    "RT @followshashank1: @PTI_News Now a Sabzi wala taking 10-15rs per lemon\n",
    "And they say ye garib ha\n",
    "\n",
    "Fayda uthaye hai ye log \n",
    "\n",
    "Aur marta Midd…\n",
    "<br>\n",
    "\n",
    "new message\n",
    "<br>\n",
    "\n",
    "@TwitterIndia shame on u...\n",
    "<br>\n",
    "\n",
    "@BJP4India Fight with Corona not with @Twitter https://t.co/SPivtMK2xR\n",
    "<br>\n",
    "\n",
    "new message\n",
    "<br>\n",
    "\n",
    "RT @rakhitripathi: Corona has reached rural India. No testing facilities, no oxygen cylinders and no hospital in remote areas. Even no publ…\n",
    "<br>\n",
    "\n",
    "new message\n",
    "<br>\n",
    "\n",
    "RT @IndiaKaPrahari: Deaths in India due to Chinese Corona Virus is 190,000 while in UK are 127,000. Total UK population is 67 Millions, Ind…\n",
    "<br>\n",
    "\n",
    "new message\n",
    "<br>\n",
    "\n",
    "RT @iamkemba: From before corona me a social distance. -Skillibeng https://t.co/tdq7LsQAFd\n",
    "<br>\n",
    "\n",
    "new message\n",
    "<br>\n",
    "\n",
    "RT @harika_bujji: Food at free of cost for the sake of corona patients in vijayawada .. \n",
    "Plz share the info.. కాంటాక్ట్ నెంబర్ on below pic…\n",
    "<br>\n",
    "\n",
    "new message\n",
    "<br>\n",
    "\n",
    "RT @Charmi_Ankit: Free Jain meals for Corona Patients in Mumbai. 👇 https://t.co/U5GYwJDzMj\n",
    "<br>\n",
    "\n",
    "new message\n",
    "<br>\n",
    "\n",
    "RT @Pramod05257893: Finally found , Thanks everyone  for Helping 🤗🥰\n",
    "<br>\n",
    "\n",
    "new message\n",
    "<br>\n",
    "\n",
    "Superb read on the makeover of a Swami 🙏🏿\n",
    "<br>\n",
    "\n",
    "new message\n",
    "<br>\n",
    "\n",
    "@NagpalManoj Together we can beat Corona\n",
    "<br>\n",
    "\n",
    "new message\n",
    "<br>\n",
    "\n",
    "It would be fair if the entire story comes out with full context. "
   ]
  },
  {
   "cell_type": "code",
   "execution_count": null,
   "metadata": {
    "id": "rxKib6o70XIJ"
   },
   "outputs": [],
   "source": []
  },
  {
   "cell_type": "code",
   "execution_count": null,
   "metadata": {
    "id": "10tM_9tN0XIJ"
   },
   "outputs": [],
   "source": []
  },
  {
   "cell_type": "code",
   "execution_count": null,
   "metadata": {
    "id": "jmVV-wbU0XIJ"
   },
   "outputs": [],
   "source": []
  },
  {
   "cell_type": "code",
   "execution_count": null,
   "metadata": {
    "id": "B4Y-0JX50XIJ"
   },
   "outputs": [],
   "source": []
  },
  {
   "cell_type": "code",
   "execution_count": null,
   "metadata": {
    "id": "YlEKAfhE0XIJ"
   },
   "outputs": [],
   "source": []
  }
 ],
 "metadata": {
  "colab": {
   "collapsed_sections": [],
   "name": "Project Part 3 -> Fetching twitter data.ipynb",
   "provenance": []
  },
  "kernelspec": {
   "display_name": "Python 3",
   "language": "python",
   "name": "python3"
  },
  "language_info": {
   "codemirror_mode": {
    "name": "ipython",
    "version": 3
   },
   "file_extension": ".py",
   "mimetype": "text/x-python",
   "name": "python",
   "nbconvert_exporter": "python",
   "pygments_lexer": "ipython3",
   "version": "3.6.8"
  },
  "toc": {
   "base_numbering": 1,
   "nav_menu": {},
   "number_sections": true,
   "sideBar": true,
   "skip_h1_title": false,
   "title_cell": "Table of Contents",
   "title_sidebar": "Contents",
   "toc_cell": false,
   "toc_position": {},
   "toc_section_display": true,
   "toc_window_display": false
  }
 },
 "nbformat": 4,
 "nbformat_minor": 1
}
